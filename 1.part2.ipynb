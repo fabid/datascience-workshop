{
 "cells": [
  {
   "cell_type": "markdown",
   "metadata": {
    "slideshow": {
     "slide_type": "slide"
    }
   },
   "source": [
    "# A new business \n",
    "\n",
    "The business team has a new idea.\n",
    "\n",
    "They want to buy cheap electricty, store it in a battery and sell it when it becomes more expensive.\n",
    "\n",
    "* The buy and sell plan must be decided before the price is known\n",
    "* We will systematically sell after a fix time what was purchased\n",
    "\n",
    "(this prevents the stored electricity to grow continuously and simplifies the model)\n",
    "\n",
    "\n",
    "They ask you: **can you predict the electricity price accurately** enough for the plan to work?"
   ]
  },
  {
   "cell_type": "markdown",
   "metadata": {
    "slideshow": {
     "slide_type": "slide"
    }
   },
   "source": [
    "## Download the data\n",
    "We will use a public electricity dataset\n",
    "\n",
    "http://jepx.org/english/index.html"
   ]
  },
  {
   "cell_type": "code",
   "execution_count": 1,
   "metadata": {},
   "outputs": [],
   "source": [
    "#! wget http://jepx.org/market/excel/spot_2019.csv"
   ]
  },
  {
   "cell_type": "markdown",
   "metadata": {
    "slideshow": {
     "slide_type": "slide"
    }
   },
   "source": [
    "## Causal models\n",
    "\n",
    "* Correlation is not causation\n",
    "* You cannot in general find causes in data unless you have an external model\n",
    "\n",
    "What are the causes of electricity price?\n",
    "\n"
   ]
  },
  {
   "cell_type": "code",
   "execution_count": 2,
   "metadata": {},
   "outputs": [],
   "source": [
    "import pandas as pd\n",
    "import matplotlib.pyplot as plt"
   ]
  },
  {
   "cell_type": "code",
   "execution_count": 3,
   "metadata": {},
   "outputs": [],
   "source": [
    "df = pd.read_csv('data/spot_2019.csv', encoding='SHIFT_JIS', parse_dates=['年月日'])"
   ]
  },
  {
   "cell_type": "code",
   "execution_count": 4,
   "metadata": {},
   "outputs": [],
   "source": [
    "df = df[df.columns[:15]]\n",
    "df.columns = [\n",
    "    'date', 'slot',\n",
    "    'sell_bids', 'buy_bids', 'traded', 'system',\n",
    "    'hokkaido', 'tohoku', 'tokyo',\n",
    "    'chubu', 'hokuriku', 'kansai',\n",
    "    'chugoku', 'shikoku', 'kyushu']"
   ]
  },
  {
   "cell_type": "code",
   "execution_count": 5,
   "metadata": {},
   "outputs": [],
   "source": [
    "df['datetime'] = df.date + pd.to_timedelta((df.slot-1) * 30, 'Min')\n",
    "df = df.set_index('datetime')\n",
    "df['weekday'] = df.date.dt.weekday # for later"
   ]
  },
  {
   "cell_type": "markdown",
   "metadata": {
    "slideshow": {
     "slide_type": "slide"
    }
   },
   "source": [
    "# Splitting the dataset\n",
    "\n",
    "Im machine learning, it is important to not use all your dataset and keep part of it for validation and testing.\n",
    "\n",
    "* a training set on which you et your modle learn\n",
    "* a validation set that you use to choose between different solutions\n",
    "* a test set that is used to estimate the performance to be expected once deployed\n",
    "\n",
    "For many type of datasets, samples should be assigned randomly to each set, but for timeseries, sequence should be preserved.\n",
    "NB: you normally don't look at test data at this stage, otherwise you will start to inject test data information in your model, and the performance estimate will be biased"
   ]
  },
  {
   "cell_type": "code",
   "execution_count": 6,
   "metadata": {},
   "outputs": [
    {
     "data": {
      "text/plain": [
       "130.0"
      ]
     },
     "execution_count": 6,
     "metadata": {},
     "output_type": "execute_result"
    }
   ],
   "source": [
    "len(df)/48"
   ]
  },
  {
   "cell_type": "code",
   "execution_count": 7,
   "metadata": {},
   "outputs": [],
   "source": [
    "df_train = df[:48*90].copy()\n",
    "df_test = df[48*90:48*110].copy()"
   ]
  },
  {
   "cell_type": "markdown",
   "metadata": {
    "slideshow": {
     "slide_type": "slide"
    }
   },
   "source": [
    "## First observations"
   ]
  },
  {
   "cell_type": "code",
   "execution_count": 8,
   "metadata": {},
   "outputs": [
    {
     "data": {
      "text/html": [
       "<div>\n",
       "<style scoped>\n",
       "    .dataframe tbody tr th:only-of-type {\n",
       "        vertical-align: middle;\n",
       "    }\n",
       "\n",
       "    .dataframe tbody tr th {\n",
       "        vertical-align: top;\n",
       "    }\n",
       "\n",
       "    .dataframe thead th {\n",
       "        text-align: right;\n",
       "    }\n",
       "</style>\n",
       "<table border=\"1\" class=\"dataframe\">\n",
       "  <thead>\n",
       "    <tr style=\"text-align: right;\">\n",
       "      <th></th>\n",
       "      <th>date</th>\n",
       "      <th>slot</th>\n",
       "      <th>sell_bids</th>\n",
       "      <th>buy_bids</th>\n",
       "      <th>traded</th>\n",
       "      <th>system</th>\n",
       "      <th>hokkaido</th>\n",
       "      <th>tohoku</th>\n",
       "      <th>tokyo</th>\n",
       "      <th>chubu</th>\n",
       "      <th>hokuriku</th>\n",
       "      <th>kansai</th>\n",
       "      <th>chugoku</th>\n",
       "      <th>shikoku</th>\n",
       "      <th>kyushu</th>\n",
       "      <th>weekday</th>\n",
       "    </tr>\n",
       "    <tr>\n",
       "      <th>datetime</th>\n",
       "      <th></th>\n",
       "      <th></th>\n",
       "      <th></th>\n",
       "      <th></th>\n",
       "      <th></th>\n",
       "      <th></th>\n",
       "      <th></th>\n",
       "      <th></th>\n",
       "      <th></th>\n",
       "      <th></th>\n",
       "      <th></th>\n",
       "      <th></th>\n",
       "      <th></th>\n",
       "      <th></th>\n",
       "      <th></th>\n",
       "      <th></th>\n",
       "    </tr>\n",
       "  </thead>\n",
       "  <tbody>\n",
       "    <tr>\n",
       "      <th>2019-06-30 00:00:00</th>\n",
       "      <td>2019-06-30</td>\n",
       "      <td>1</td>\n",
       "      <td>15856550</td>\n",
       "      <td>16225750</td>\n",
       "      <td>13649400</td>\n",
       "      <td>6.42</td>\n",
       "      <td>6.53</td>\n",
       "      <td>6.53</td>\n",
       "      <td>6.53</td>\n",
       "      <td>5.67</td>\n",
       "      <td>5.67</td>\n",
       "      <td>5.67</td>\n",
       "      <td>5.67</td>\n",
       "      <td>5.67</td>\n",
       "      <td>5.67</td>\n",
       "      <td>6</td>\n",
       "    </tr>\n",
       "    <tr>\n",
       "      <th>2019-06-30 00:30:00</th>\n",
       "      <td>2019-06-30</td>\n",
       "      <td>2</td>\n",
       "      <td>17468550</td>\n",
       "      <td>17322900</td>\n",
       "      <td>14709800</td>\n",
       "      <td>5.96</td>\n",
       "      <td>6.53</td>\n",
       "      <td>6.53</td>\n",
       "      <td>6.53</td>\n",
       "      <td>5.65</td>\n",
       "      <td>5.65</td>\n",
       "      <td>5.65</td>\n",
       "      <td>5.65</td>\n",
       "      <td>5.65</td>\n",
       "      <td>5.65</td>\n",
       "      <td>6</td>\n",
       "    </tr>\n",
       "    <tr>\n",
       "      <th>2019-06-30 01:00:00</th>\n",
       "      <td>2019-06-30</td>\n",
       "      <td>3</td>\n",
       "      <td>19528200</td>\n",
       "      <td>17899800</td>\n",
       "      <td>15128600</td>\n",
       "      <td>6.21</td>\n",
       "      <td>6.33</td>\n",
       "      <td>6.33</td>\n",
       "      <td>6.33</td>\n",
       "      <td>5.65</td>\n",
       "      <td>5.65</td>\n",
       "      <td>5.65</td>\n",
       "      <td>5.65</td>\n",
       "      <td>5.65</td>\n",
       "      <td>5.65</td>\n",
       "      <td>6</td>\n",
       "    </tr>\n",
       "    <tr>\n",
       "      <th>2019-06-30 01:30:00</th>\n",
       "      <td>2019-06-30</td>\n",
       "      <td>4</td>\n",
       "      <td>19900350</td>\n",
       "      <td>17989250</td>\n",
       "      <td>15186150</td>\n",
       "      <td>6.21</td>\n",
       "      <td>6.33</td>\n",
       "      <td>6.33</td>\n",
       "      <td>6.33</td>\n",
       "      <td>5.65</td>\n",
       "      <td>5.65</td>\n",
       "      <td>5.65</td>\n",
       "      <td>5.65</td>\n",
       "      <td>5.65</td>\n",
       "      <td>5.65</td>\n",
       "      <td>6</td>\n",
       "    </tr>\n",
       "    <tr>\n",
       "      <th>2019-06-30 02:00:00</th>\n",
       "      <td>2019-06-30</td>\n",
       "      <td>5</td>\n",
       "      <td>19903150</td>\n",
       "      <td>17949750</td>\n",
       "      <td>15205200</td>\n",
       "      <td>6.21</td>\n",
       "      <td>6.33</td>\n",
       "      <td>6.33</td>\n",
       "      <td>6.33</td>\n",
       "      <td>5.80</td>\n",
       "      <td>5.80</td>\n",
       "      <td>5.80</td>\n",
       "      <td>5.80</td>\n",
       "      <td>5.80</td>\n",
       "      <td>5.80</td>\n",
       "      <td>6</td>\n",
       "    </tr>\n",
       "  </tbody>\n",
       "</table>\n",
       "</div>"
      ],
      "text/plain": [
       "                          date  slot  sell_bids  buy_bids    traded  system  \\\n",
       "datetime                                                                      \n",
       "2019-06-30 00:00:00 2019-06-30     1   15856550  16225750  13649400    6.42   \n",
       "2019-06-30 00:30:00 2019-06-30     2   17468550  17322900  14709800    5.96   \n",
       "2019-06-30 01:00:00 2019-06-30     3   19528200  17899800  15128600    6.21   \n",
       "2019-06-30 01:30:00 2019-06-30     4   19900350  17989250  15186150    6.21   \n",
       "2019-06-30 02:00:00 2019-06-30     5   19903150  17949750  15205200    6.21   \n",
       "\n",
       "                     hokkaido  tohoku  tokyo  chubu  hokuriku  kansai  \\\n",
       "datetime                                                                \n",
       "2019-06-30 00:00:00      6.53    6.53   6.53   5.67      5.67    5.67   \n",
       "2019-06-30 00:30:00      6.53    6.53   6.53   5.65      5.65    5.65   \n",
       "2019-06-30 01:00:00      6.33    6.33   6.33   5.65      5.65    5.65   \n",
       "2019-06-30 01:30:00      6.33    6.33   6.33   5.65      5.65    5.65   \n",
       "2019-06-30 02:00:00      6.33    6.33   6.33   5.80      5.80    5.80   \n",
       "\n",
       "                     chugoku  shikoku  kyushu  weekday  \n",
       "datetime                                                \n",
       "2019-06-30 00:00:00     5.67     5.67    5.67        6  \n",
       "2019-06-30 00:30:00     5.65     5.65    5.65        6  \n",
       "2019-06-30 01:00:00     5.65     5.65    5.65        6  \n",
       "2019-06-30 01:30:00     5.65     5.65    5.65        6  \n",
       "2019-06-30 02:00:00     5.80     5.80    5.80        6  "
      ]
     },
     "execution_count": 8,
     "metadata": {},
     "output_type": "execute_result"
    }
   ],
   "source": [
    "df_test.head()"
   ]
  },
  {
   "cell_type": "code",
   "execution_count": 9,
   "metadata": {
    "slideshow": {
     "slide_type": "subslide"
    }
   },
   "outputs": [
    {
     "data": {
      "text/html": [
       "<div>\n",
       "<style scoped>\n",
       "    .dataframe tbody tr th:only-of-type {\n",
       "        vertical-align: middle;\n",
       "    }\n",
       "\n",
       "    .dataframe tbody tr th {\n",
       "        vertical-align: top;\n",
       "    }\n",
       "\n",
       "    .dataframe thead th {\n",
       "        text-align: right;\n",
       "    }\n",
       "</style>\n",
       "<table border=\"1\" class=\"dataframe\">\n",
       "  <thead>\n",
       "    <tr style=\"text-align: right;\">\n",
       "      <th></th>\n",
       "      <th>slot</th>\n",
       "      <th>sell_bids</th>\n",
       "      <th>buy_bids</th>\n",
       "      <th>traded</th>\n",
       "      <th>system</th>\n",
       "      <th>hokkaido</th>\n",
       "      <th>tohoku</th>\n",
       "      <th>tokyo</th>\n",
       "      <th>chubu</th>\n",
       "      <th>hokuriku</th>\n",
       "      <th>kansai</th>\n",
       "      <th>chugoku</th>\n",
       "      <th>shikoku</th>\n",
       "      <th>kyushu</th>\n",
       "      <th>weekday</th>\n",
       "    </tr>\n",
       "  </thead>\n",
       "  <tbody>\n",
       "    <tr>\n",
       "      <th>count</th>\n",
       "      <td>960.00000</td>\n",
       "      <td>9.600000e+02</td>\n",
       "      <td>9.600000e+02</td>\n",
       "      <td>9.600000e+02</td>\n",
       "      <td>960.000000</td>\n",
       "      <td>960.000000</td>\n",
       "      <td>960.000000</td>\n",
       "      <td>960.000000</td>\n",
       "      <td>960.000000</td>\n",
       "      <td>960.000000</td>\n",
       "      <td>960.000000</td>\n",
       "      <td>960.000000</td>\n",
       "      <td>960.000000</td>\n",
       "      <td>960.000000</td>\n",
       "      <td>960.00000</td>\n",
       "    </tr>\n",
       "    <tr>\n",
       "      <th>mean</th>\n",
       "      <td>24.50000</td>\n",
       "      <td>2.152295e+07</td>\n",
       "      <td>2.009688e+07</td>\n",
       "      <td>1.747685e+07</td>\n",
       "      <td>7.040354</td>\n",
       "      <td>10.598146</td>\n",
       "      <td>7.435948</td>\n",
       "      <td>7.441094</td>\n",
       "      <td>6.648781</td>\n",
       "      <td>6.648781</td>\n",
       "      <td>6.648781</td>\n",
       "      <td>6.648781</td>\n",
       "      <td>6.622833</td>\n",
       "      <td>6.582385</td>\n",
       "      <td>2.90000</td>\n",
       "    </tr>\n",
       "    <tr>\n",
       "      <th>std</th>\n",
       "      <td>13.86062</td>\n",
       "      <td>1.682146e+06</td>\n",
       "      <td>1.802369e+06</td>\n",
       "      <td>1.586116e+06</td>\n",
       "      <td>1.264718</td>\n",
       "      <td>2.974808</td>\n",
       "      <td>1.291674</td>\n",
       "      <td>1.291301</td>\n",
       "      <td>1.286359</td>\n",
       "      <td>1.286359</td>\n",
       "      <td>1.286359</td>\n",
       "      <td>1.286359</td>\n",
       "      <td>1.321624</td>\n",
       "      <td>1.324786</td>\n",
       "      <td>1.99854</td>\n",
       "    </tr>\n",
       "    <tr>\n",
       "      <th>min</th>\n",
       "      <td>1.00000</td>\n",
       "      <td>1.585655e+07</td>\n",
       "      <td>1.578240e+07</td>\n",
       "      <td>1.364630e+07</td>\n",
       "      <td>4.860000</td>\n",
       "      <td>5.040000</td>\n",
       "      <td>4.920000</td>\n",
       "      <td>4.920000</td>\n",
       "      <td>4.090000</td>\n",
       "      <td>4.090000</td>\n",
       "      <td>4.090000</td>\n",
       "      <td>4.090000</td>\n",
       "      <td>0.010000</td>\n",
       "      <td>3.560000</td>\n",
       "      <td>0.00000</td>\n",
       "    </tr>\n",
       "    <tr>\n",
       "      <th>25%</th>\n",
       "      <td>12.75000</td>\n",
       "      <td>2.036325e+07</td>\n",
       "      <td>1.865250e+07</td>\n",
       "      <td>1.624185e+07</td>\n",
       "      <td>6.120000</td>\n",
       "      <td>9.140000</td>\n",
       "      <td>6.490000</td>\n",
       "      <td>6.490000</td>\n",
       "      <td>5.620000</td>\n",
       "      <td>5.620000</td>\n",
       "      <td>5.620000</td>\n",
       "      <td>5.620000</td>\n",
       "      <td>5.600000</td>\n",
       "      <td>5.600000</td>\n",
       "      <td>1.00000</td>\n",
       "    </tr>\n",
       "    <tr>\n",
       "      <th>50%</th>\n",
       "      <td>24.50000</td>\n",
       "      <td>2.160852e+07</td>\n",
       "      <td>1.982608e+07</td>\n",
       "      <td>1.718868e+07</td>\n",
       "      <td>6.825000</td>\n",
       "      <td>10.220000</td>\n",
       "      <td>6.985000</td>\n",
       "      <td>6.985000</td>\n",
       "      <td>6.315000</td>\n",
       "      <td>6.315000</td>\n",
       "      <td>6.315000</td>\n",
       "      <td>6.315000</td>\n",
       "      <td>6.280000</td>\n",
       "      <td>6.050000</td>\n",
       "      <td>3.00000</td>\n",
       "    </tr>\n",
       "    <tr>\n",
       "      <th>75%</th>\n",
       "      <td>36.25000</td>\n",
       "      <td>2.274900e+07</td>\n",
       "      <td>2.172996e+07</td>\n",
       "      <td>1.887355e+07</td>\n",
       "      <td>7.820000</td>\n",
       "      <td>12.360000</td>\n",
       "      <td>8.450000</td>\n",
       "      <td>8.462500</td>\n",
       "      <td>7.590000</td>\n",
       "      <td>7.590000</td>\n",
       "      <td>7.590000</td>\n",
       "      <td>7.590000</td>\n",
       "      <td>7.570000</td>\n",
       "      <td>7.590000</td>\n",
       "      <td>4.25000</td>\n",
       "    </tr>\n",
       "    <tr>\n",
       "      <th>max</th>\n",
       "      <td>48.00000</td>\n",
       "      <td>2.605020e+07</td>\n",
       "      <td>2.397375e+07</td>\n",
       "      <td>2.083735e+07</td>\n",
       "      <td>10.350000</td>\n",
       "      <td>20.000000</td>\n",
       "      <td>12.190000</td>\n",
       "      <td>12.190000</td>\n",
       "      <td>10.080000</td>\n",
       "      <td>10.080000</td>\n",
       "      <td>10.080000</td>\n",
       "      <td>10.080000</td>\n",
       "      <td>10.080000</td>\n",
       "      <td>10.080000</td>\n",
       "      <td>6.00000</td>\n",
       "    </tr>\n",
       "  </tbody>\n",
       "</table>\n",
       "</div>"
      ],
      "text/plain": [
       "            slot     sell_bids      buy_bids        traded      system  \\\n",
       "count  960.00000  9.600000e+02  9.600000e+02  9.600000e+02  960.000000   \n",
       "mean    24.50000  2.152295e+07  2.009688e+07  1.747685e+07    7.040354   \n",
       "std     13.86062  1.682146e+06  1.802369e+06  1.586116e+06    1.264718   \n",
       "min      1.00000  1.585655e+07  1.578240e+07  1.364630e+07    4.860000   \n",
       "25%     12.75000  2.036325e+07  1.865250e+07  1.624185e+07    6.120000   \n",
       "50%     24.50000  2.160852e+07  1.982608e+07  1.718868e+07    6.825000   \n",
       "75%     36.25000  2.274900e+07  2.172996e+07  1.887355e+07    7.820000   \n",
       "max     48.00000  2.605020e+07  2.397375e+07  2.083735e+07   10.350000   \n",
       "\n",
       "         hokkaido      tohoku       tokyo       chubu    hokuriku      kansai  \\\n",
       "count  960.000000  960.000000  960.000000  960.000000  960.000000  960.000000   \n",
       "mean    10.598146    7.435948    7.441094    6.648781    6.648781    6.648781   \n",
       "std      2.974808    1.291674    1.291301    1.286359    1.286359    1.286359   \n",
       "min      5.040000    4.920000    4.920000    4.090000    4.090000    4.090000   \n",
       "25%      9.140000    6.490000    6.490000    5.620000    5.620000    5.620000   \n",
       "50%     10.220000    6.985000    6.985000    6.315000    6.315000    6.315000   \n",
       "75%     12.360000    8.450000    8.462500    7.590000    7.590000    7.590000   \n",
       "max     20.000000   12.190000   12.190000   10.080000   10.080000   10.080000   \n",
       "\n",
       "          chugoku     shikoku      kyushu    weekday  \n",
       "count  960.000000  960.000000  960.000000  960.00000  \n",
       "mean     6.648781    6.622833    6.582385    2.90000  \n",
       "std      1.286359    1.321624    1.324786    1.99854  \n",
       "min      4.090000    0.010000    3.560000    0.00000  \n",
       "25%      5.620000    5.600000    5.600000    1.00000  \n",
       "50%      6.315000    6.280000    6.050000    3.00000  \n",
       "75%      7.590000    7.570000    7.590000    4.25000  \n",
       "max     10.080000   10.080000   10.080000    6.00000  "
      ]
     },
     "execution_count": 9,
     "metadata": {},
     "output_type": "execute_result"
    }
   ],
   "source": [
    "df_test.describe()"
   ]
  },
  {
   "cell_type": "code",
   "execution_count": 10,
   "metadata": {
    "slideshow": {
     "slide_type": "subslide"
    }
   },
   "outputs": [
    {
     "data": {
      "text/plain": [
       "<matplotlib.axes._subplots.AxesSubplot at 0x7fddc034e6a0>"
      ]
     },
     "execution_count": 10,
     "metadata": {},
     "output_type": "execute_result"
    },
    {
     "data": {
      "image/png": "[encoded data removed]",
      "text/plain": [
       "<Figure size 432x288 with 1 Axes>"
      ]
     },
     "metadata": {
      "needs_background": "light"
     },
     "output_type": "display_data"
    }
   ],
   "source": [
    "area = 'kansai'\n",
    "df_test[area].plot()"
   ]
  },
  {
   "cell_type": "code",
   "execution_count": 11,
   "metadata": {
    "slideshow": {
     "slide_type": "subslide"
    }
   },
   "outputs": [
    {
     "data": {
      "text/plain": [
       "<matplotlib.axes._subplots.AxesSubplot at 0x7fddbe2537b8>"
      ]
     },
     "execution_count": 11,
     "metadata": {},
     "output_type": "execute_result"
    },
    {
     "data": {
      "image/png": "[encoded data removed]",
      "text/plain": [
       "<Figure size 432x288 with 1 Axes>"
      ]
     },
     "metadata": {
      "needs_background": "light"
     },
     "output_type": "display_data"
    }
   ],
   "source": [
    "# 1 week of data\n",
    "df_train[:48*7].kansai.plot()"
   ]
  },
  {
   "cell_type": "markdown",
   "metadata": {
    "slideshow": {
     "slide_type": "slide"
    }
   },
   "source": [
    "## Let's use our causal model and see if it works"
   ]
  },
  {
   "cell_type": "code",
   "execution_count": 12,
   "metadata": {},
   "outputs": [
    {
     "data": {
      "text/html": [
       "<div>\n",
       "<style scoped>\n",
       "    .dataframe tbody tr th:only-of-type {\n",
       "        vertical-align: middle;\n",
       "    }\n",
       "\n",
       "    .dataframe tbody tr th {\n",
       "        vertical-align: top;\n",
       "    }\n",
       "\n",
       "    .dataframe thead th {\n",
       "        text-align: right;\n",
       "    }\n",
       "</style>\n",
       "<table border=\"1\" class=\"dataframe\">\n",
       "  <thead>\n",
       "    <tr style=\"text-align: right;\">\n",
       "      <th>slot</th>\n",
       "      <th>1</th>\n",
       "      <th>2</th>\n",
       "      <th>3</th>\n",
       "      <th>4</th>\n",
       "      <th>5</th>\n",
       "      <th>6</th>\n",
       "      <th>7</th>\n",
       "      <th>8</th>\n",
       "      <th>9</th>\n",
       "      <th>10</th>\n",
       "      <th>...</th>\n",
       "      <th>39</th>\n",
       "      <th>40</th>\n",
       "      <th>41</th>\n",
       "      <th>42</th>\n",
       "      <th>43</th>\n",
       "      <th>44</th>\n",
       "      <th>45</th>\n",
       "      <th>46</th>\n",
       "      <th>47</th>\n",
       "      <th>48</th>\n",
       "    </tr>\n",
       "    <tr>\n",
       "      <th>date</th>\n",
       "      <th></th>\n",
       "      <th></th>\n",
       "      <th></th>\n",
       "      <th></th>\n",
       "      <th></th>\n",
       "      <th></th>\n",
       "      <th></th>\n",
       "      <th></th>\n",
       "      <th></th>\n",
       "      <th></th>\n",
       "      <th></th>\n",
       "      <th></th>\n",
       "      <th></th>\n",
       "      <th></th>\n",
       "      <th></th>\n",
       "      <th></th>\n",
       "      <th></th>\n",
       "      <th></th>\n",
       "      <th></th>\n",
       "      <th></th>\n",
       "      <th></th>\n",
       "    </tr>\n",
       "  </thead>\n",
       "  <tbody>\n",
       "    <tr>\n",
       "      <th>2019-04-01</th>\n",
       "      <td>5.75</td>\n",
       "      <td>5.48</td>\n",
       "      <td>5.20</td>\n",
       "      <td>5.04</td>\n",
       "      <td>5.73</td>\n",
       "      <td>5.85</td>\n",
       "      <td>6.59</td>\n",
       "      <td>5.65</td>\n",
       "      <td>5.85</td>\n",
       "      <td>5.51</td>\n",
       "      <td>...</td>\n",
       "      <td>10.34</td>\n",
       "      <td>10.34</td>\n",
       "      <td>10.34</td>\n",
       "      <td>10.34</td>\n",
       "      <td>10.34</td>\n",
       "      <td>10.34</td>\n",
       "      <td>10.34</td>\n",
       "      <td>9.74</td>\n",
       "      <td>9.74</td>\n",
       "      <td>9.74</td>\n",
       "    </tr>\n",
       "    <tr>\n",
       "      <th>2019-04-02</th>\n",
       "      <td>8.65</td>\n",
       "      <td>7.21</td>\n",
       "      <td>6.53</td>\n",
       "      <td>6.47</td>\n",
       "      <td>6.48</td>\n",
       "      <td>6.42</td>\n",
       "      <td>6.42</td>\n",
       "      <td>6.42</td>\n",
       "      <td>6.42</td>\n",
       "      <td>6.42</td>\n",
       "      <td>...</td>\n",
       "      <td>9.66</td>\n",
       "      <td>9.66</td>\n",
       "      <td>9.63</td>\n",
       "      <td>9.48</td>\n",
       "      <td>9.48</td>\n",
       "      <td>9.03</td>\n",
       "      <td>9.48</td>\n",
       "      <td>9.48</td>\n",
       "      <td>9.39</td>\n",
       "      <td>8.77</td>\n",
       "    </tr>\n",
       "    <tr>\n",
       "      <th>2019-04-03</th>\n",
       "      <td>9.21</td>\n",
       "      <td>8.65</td>\n",
       "      <td>8.31</td>\n",
       "      <td>6.81</td>\n",
       "      <td>6.81</td>\n",
       "      <td>6.81</td>\n",
       "      <td>6.81</td>\n",
       "      <td>7.16</td>\n",
       "      <td>6.13</td>\n",
       "      <td>5.65</td>\n",
       "      <td>...</td>\n",
       "      <td>9.82</td>\n",
       "      <td>9.82</td>\n",
       "      <td>9.87</td>\n",
       "      <td>9.63</td>\n",
       "      <td>9.63</td>\n",
       "      <td>9.16</td>\n",
       "      <td>9.48</td>\n",
       "      <td>6.33</td>\n",
       "      <td>8.65</td>\n",
       "      <td>8.65</td>\n",
       "    </tr>\n",
       "    <tr>\n",
       "      <th>2019-04-04</th>\n",
       "      <td>9.13</td>\n",
       "      <td>8.65</td>\n",
       "      <td>7.22</td>\n",
       "      <td>6.16</td>\n",
       "      <td>6.56</td>\n",
       "      <td>6.74</td>\n",
       "      <td>7.70</td>\n",
       "      <td>8.26</td>\n",
       "      <td>6.73</td>\n",
       "      <td>6.73</td>\n",
       "      <td>...</td>\n",
       "      <td>9.79</td>\n",
       "      <td>9.63</td>\n",
       "      <td>9.63</td>\n",
       "      <td>9.48</td>\n",
       "      <td>7.41</td>\n",
       "      <td>6.21</td>\n",
       "      <td>8.65</td>\n",
       "      <td>6.16</td>\n",
       "      <td>7.68</td>\n",
       "      <td>8.26</td>\n",
       "    </tr>\n",
       "    <tr>\n",
       "      <th>2019-04-05</th>\n",
       "      <td>6.18</td>\n",
       "      <td>6.59</td>\n",
       "      <td>6.33</td>\n",
       "      <td>6.16</td>\n",
       "      <td>6.21</td>\n",
       "      <td>6.46</td>\n",
       "      <td>6.46</td>\n",
       "      <td>6.46</td>\n",
       "      <td>7.28</td>\n",
       "      <td>7.30</td>\n",
       "      <td>...</td>\n",
       "      <td>7.37</td>\n",
       "      <td>6.33</td>\n",
       "      <td>6.16</td>\n",
       "      <td>6.16</td>\n",
       "      <td>6.24</td>\n",
       "      <td>6.01</td>\n",
       "      <td>6.16</td>\n",
       "      <td>6.16</td>\n",
       "      <td>6.54</td>\n",
       "      <td>6.16</td>\n",
       "    </tr>\n",
       "  </tbody>\n",
       "</table>\n",
       "<p>5 rows × 48 columns</p>\n",
       "</div>"
      ],
      "text/plain": [
       "slot          1     2     3     4     5     6     7     8     9     10  ...  \\\n",
       "date                                                                    ...   \n",
       "2019-04-01  5.75  5.48  5.20  5.04  5.73  5.85  6.59  5.65  5.85  5.51  ...   \n",
       "2019-04-02  8.65  7.21  6.53  6.47  6.48  6.42  6.42  6.42  6.42  6.42  ...   \n",
       "2019-04-03  9.21  8.65  8.31  6.81  6.81  6.81  6.81  7.16  6.13  5.65  ...   \n",
       "2019-04-04  9.13  8.65  7.22  6.16  6.56  6.74  7.70  8.26  6.73  6.73  ...   \n",
       "2019-04-05  6.18  6.59  6.33  6.16  6.21  6.46  6.46  6.46  7.28  7.30  ...   \n",
       "\n",
       "slot           39     40     41     42     43     44     45    46    47    48  \n",
       "date                                                                           \n",
       "2019-04-01  10.34  10.34  10.34  10.34  10.34  10.34  10.34  9.74  9.74  9.74  \n",
       "2019-04-02   9.66   9.66   9.63   9.48   9.48   9.03   9.48  9.48  9.39  8.77  \n",
       "2019-04-03   9.82   9.82   9.87   9.63   9.63   9.16   9.48  6.33  8.65  8.65  \n",
       "2019-04-04   9.79   9.63   9.63   9.48   7.41   6.21   8.65  6.16  7.68  8.26  \n",
       "2019-04-05   7.37   6.33   6.16   6.16   6.24   6.01   6.16  6.16  6.54  6.16  \n",
       "\n",
       "[5 rows x 48 columns]"
      ]
     },
     "execution_count": 12,
     "metadata": {},
     "output_type": "execute_result"
    }
   ],
   "source": [
    "area_data = df_train.pivot(index='date', columns='slot', values=area)\n",
    "area_data.head()"
   ]
  },
  {
   "cell_type": "code",
   "execution_count": 13,
   "metadata": {
    "slideshow": {
     "slide_type": "subslide"
    }
   },
   "outputs": [
    {
     "data": {
      "text/plain": [
       "<matplotlib.collections.QuadMesh at 0x7fddbda83358>"
      ]
     },
     "execution_count": 13,
     "metadata": {},
     "output_type": "execute_result"
    },
    {
     "data": {
      "image/png": "[encoded data removed]",
      "text/plain": [
       "<Figure size 1440x288 with 2 Axes>"
      ]
     },
     "metadata": {
      "needs_background": "light"
     },
     "output_type": "display_data"
    }
   ],
   "source": [
    "area_xarr = area_data.to_xarray().to_array()\n",
    "plt.figure(figsize=(20,4))\n",
    "area_xarr.plot()"
   ]
  },
  {
   "cell_type": "markdown",
   "metadata": {},
   "source": [
    "What do you observe?"
   ]
  },
  {
   "cell_type": "markdown",
   "metadata": {
    "slideshow": {
     "slide_type": "slide"
    }
   },
   "source": [
    "## Focusing on weekly patterns"
   ]
  },
  {
   "cell_type": "code",
   "execution_count": null,
   "metadata": {},
   "outputs": [],
   "source": []
  },
  {
   "cell_type": "code",
   "execution_count": 14,
   "metadata": {},
   "outputs": [
    {
     "data": {
      "text/html": [
       "<div>\n",
       "<style scoped>\n",
       "    .dataframe tbody tr th:only-of-type {\n",
       "        vertical-align: middle;\n",
       "    }\n",
       "\n",
       "    .dataframe tbody tr th {\n",
       "        vertical-align: top;\n",
       "    }\n",
       "\n",
       "    .dataframe thead th {\n",
       "        text-align: right;\n",
       "    }\n",
       "</style>\n",
       "<table border=\"1\" class=\"dataframe\">\n",
       "  <thead>\n",
       "    <tr style=\"text-align: right;\">\n",
       "      <th></th>\n",
       "      <th></th>\n",
       "      <th>sell_bids</th>\n",
       "      <th>buy_bids</th>\n",
       "      <th>traded</th>\n",
       "      <th>system</th>\n",
       "      <th>hokkaido</th>\n",
       "      <th>tohoku</th>\n",
       "      <th>tokyo</th>\n",
       "      <th>chubu</th>\n",
       "      <th>hokuriku</th>\n",
       "      <th>kansai</th>\n",
       "      <th>chugoku</th>\n",
       "      <th>shikoku</th>\n",
       "      <th>kyushu</th>\n",
       "    </tr>\n",
       "    <tr>\n",
       "      <th>weekday</th>\n",
       "      <th>slot</th>\n",
       "      <th></th>\n",
       "      <th></th>\n",
       "      <th></th>\n",
       "      <th></th>\n",
       "      <th></th>\n",
       "      <th></th>\n",
       "      <th></th>\n",
       "      <th></th>\n",
       "      <th></th>\n",
       "      <th></th>\n",
       "      <th></th>\n",
       "      <th></th>\n",
       "      <th></th>\n",
       "    </tr>\n",
       "  </thead>\n",
       "  <tbody>\n",
       "    <tr>\n",
       "      <th rowspan=\"5\" valign=\"top\">0</th>\n",
       "      <th>1</th>\n",
       "      <td>1.434307e+07</td>\n",
       "      <td>1.504352e+07</td>\n",
       "      <td>1.231268e+07</td>\n",
       "      <td>7.191538</td>\n",
       "      <td>8.244615</td>\n",
       "      <td>7.496923</td>\n",
       "      <td>7.496923</td>\n",
       "      <td>5.846923</td>\n",
       "      <td>5.846923</td>\n",
       "      <td>5.846923</td>\n",
       "      <td>5.846923</td>\n",
       "      <td>5.846923</td>\n",
       "      <td>5.826154</td>\n",
       "    </tr>\n",
       "    <tr>\n",
       "      <th>2</th>\n",
       "      <td>1.520276e+07</td>\n",
       "      <td>1.554746e+07</td>\n",
       "      <td>1.276118e+07</td>\n",
       "      <td>6.687692</td>\n",
       "      <td>8.250769</td>\n",
       "      <td>7.300000</td>\n",
       "      <td>7.300000</td>\n",
       "      <td>5.598462</td>\n",
       "      <td>5.598462</td>\n",
       "      <td>5.598462</td>\n",
       "      <td>5.598462</td>\n",
       "      <td>5.598462</td>\n",
       "      <td>5.593077</td>\n",
       "    </tr>\n",
       "    <tr>\n",
       "      <th>3</th>\n",
       "      <td>1.586384e+07</td>\n",
       "      <td>1.562873e+07</td>\n",
       "      <td>1.289941e+07</td>\n",
       "      <td>6.478462</td>\n",
       "      <td>7.424615</td>\n",
       "      <td>7.183846</td>\n",
       "      <td>7.183846</td>\n",
       "      <td>5.510000</td>\n",
       "      <td>5.510000</td>\n",
       "      <td>5.510000</td>\n",
       "      <td>5.510000</td>\n",
       "      <td>5.510000</td>\n",
       "      <td>5.510000</td>\n",
       "    </tr>\n",
       "    <tr>\n",
       "      <th>4</th>\n",
       "      <td>1.615800e+07</td>\n",
       "      <td>1.574723e+07</td>\n",
       "      <td>1.301543e+07</td>\n",
       "      <td>6.418462</td>\n",
       "      <td>7.170000</td>\n",
       "      <td>7.156923</td>\n",
       "      <td>7.156923</td>\n",
       "      <td>5.479231</td>\n",
       "      <td>5.479231</td>\n",
       "      <td>5.479231</td>\n",
       "      <td>5.479231</td>\n",
       "      <td>5.479231</td>\n",
       "      <td>5.479231</td>\n",
       "    </tr>\n",
       "    <tr>\n",
       "      <th>5</th>\n",
       "      <td>1.626486e+07</td>\n",
       "      <td>1.585390e+07</td>\n",
       "      <td>1.304146e+07</td>\n",
       "      <td>6.500769</td>\n",
       "      <td>7.350000</td>\n",
       "      <td>7.030000</td>\n",
       "      <td>7.030000</td>\n",
       "      <td>5.796154</td>\n",
       "      <td>5.796154</td>\n",
       "      <td>5.796154</td>\n",
       "      <td>5.796154</td>\n",
       "      <td>5.796154</td>\n",
       "      <td>5.796154</td>\n",
       "    </tr>\n",
       "  </tbody>\n",
       "</table>\n",
       "</div>"
      ],
      "text/plain": [
       "                 sell_bids      buy_bids        traded    system  hokkaido  \\\n",
       "weekday slot                                                                 \n",
       "0       1     1.434307e+07  1.504352e+07  1.231268e+07  7.191538  8.244615   \n",
       "        2     1.520276e+07  1.554746e+07  1.276118e+07  6.687692  8.250769   \n",
       "        3     1.586384e+07  1.562873e+07  1.289941e+07  6.478462  7.424615   \n",
       "        4     1.615800e+07  1.574723e+07  1.301543e+07  6.418462  7.170000   \n",
       "        5     1.626486e+07  1.585390e+07  1.304146e+07  6.500769  7.350000   \n",
       "\n",
       "                tohoku     tokyo     chubu  hokuriku    kansai   chugoku  \\\n",
       "weekday slot                                                               \n",
       "0       1     7.496923  7.496923  5.846923  5.846923  5.846923  5.846923   \n",
       "        2     7.300000  7.300000  5.598462  5.598462  5.598462  5.598462   \n",
       "        3     7.183846  7.183846  5.510000  5.510000  5.510000  5.510000   \n",
       "        4     7.156923  7.156923  5.479231  5.479231  5.479231  5.479231   \n",
       "        5     7.030000  7.030000  5.796154  5.796154  5.796154  5.796154   \n",
       "\n",
       "               shikoku    kyushu  \n",
       "weekday slot                      \n",
       "0       1     5.846923  5.826154  \n",
       "        2     5.598462  5.593077  \n",
       "        3     5.510000  5.510000  \n",
       "        4     5.479231  5.479231  \n",
       "        5     5.796154  5.796154  "
      ]
     },
     "execution_count": 14,
     "metadata": {},
     "output_type": "execute_result"
    }
   ],
   "source": [
    "by_weekday = df_train.groupby(['weekday', 'slot']).mean()\n",
    "by_weekday.head()"
   ]
  },
  {
   "cell_type": "code",
   "execution_count": 15,
   "metadata": {
    "slideshow": {
     "slide_type": "subslide"
    }
   },
   "outputs": [
    {
     "data": {
      "text/plain": [
       "<matplotlib.collections.QuadMesh at 0x7fddbda13748>"
      ]
     },
     "execution_count": 15,
     "metadata": {},
     "output_type": "execute_result"
    },
    {
     "data": {
      "image/png": "[encoded data removed]",
      "text/plain": [
       "<Figure size 432x288 with 2 Axes>"
      ]
     },
     "metadata": {
      "needs_background": "light"
     },
     "output_type": "display_data"
    }
   ],
   "source": [
    "by_weekday.kansai.to_xarray().plot()"
   ]
  },
  {
   "cell_type": "markdown",
   "metadata": {},
   "source": [
    "We are onto something"
   ]
  },
  {
   "cell_type": "markdown",
   "metadata": {
    "slideshow": {
     "slide_type": "slide"
    }
   },
   "source": [
    "## Shall we make a model?\n",
    "\n",
    "We don't have a clear linear relation between the input and the output.\n",
    "\n",
    "In such a case a random forest model like xgboost can be very powerful."
   ]
  },
  {
   "cell_type": "code",
   "execution_count": 16,
   "metadata": {},
   "outputs": [],
   "source": [
    "from xgboost import XGBRegressor"
   ]
  },
  {
   "cell_type": "markdown",
   "metadata": {
    "slideshow": {
     "slide_type": "slide"
    }
   },
   "source": [
    "## Warning: curse of dimensionality\n",
    "\n",
    "Some model like xgboost easily fall into this trap.\n",
    "\n",
    "You can easily add more and more inputs to the model, and will gradually get a near perfect fit on your training set.\n",
    "\n",
    "As the number of parameters increase, the density of samples in your input space (hypercube!) becomes very low."
   ]
  },
  {
   "cell_type": "markdown",
   "metadata": {
    "slideshow": {
     "slide_type": "slide"
    }
   },
   "source": [
    "## Training the model"
   ]
  },
  {
   "cell_type": "code",
   "execution_count": 17,
   "metadata": {
    "slideshow": {
     "slide_type": "slide"
    }
   },
   "outputs": [],
   "source": [
    "model = XGBRegressor()"
   ]
  },
  {
   "cell_type": "code",
   "execution_count": 18,
   "metadata": {},
   "outputs": [
    {
     "name": "stdout",
     "output_type": "stream",
     "text": [
      "[18:51:28] WARNING: /workspace/src/objective/regression_obj.cu:152: reg:linear is now deprecated in favor of reg:squarederror.\n"
     ]
    },
    {
     "data": {
      "text/plain": [
       "XGBRegressor(base_score=0.5, booster='gbtree', colsample_bylevel=1,\n",
       "             colsample_bynode=1, colsample_bytree=1, gamma=0,\n",
       "             importance_type='gain', learning_rate=0.1, max_delta_step=0,\n",
       "             max_depth=3, min_child_weight=1, missing=None, n_estimators=100,\n",
       "             n_jobs=1, nthread=None, objective='reg:linear', random_state=0,\n",
       "             reg_alpha=0, reg_lambda=1, scale_pos_weight=1, seed=None,\n",
       "             silent=None, subsample=1, verbosity=1)"
      ]
     },
     "execution_count": 18,
     "metadata": {},
     "output_type": "execute_result"
    }
   ],
   "source": [
    "# finally a function!\n",
    "def make_X_y(df, area):\n",
    "    X = df[['weekday', 'slot']].values\n",
    "    y = df[area].values\n",
    "    return X, y\n",
    "X_train, y_train = make_X_y(df_train, area)\n",
    "model.fit(X_train, y_train)"
   ]
  },
  {
   "cell_type": "markdown",
   "metadata": {
    "slideshow": {
     "slide_type": "slide"
    }
   },
   "source": [
    "## Lets's see the result on the training set"
   ]
  },
  {
   "cell_type": "code",
   "execution_count": 19,
   "metadata": {},
   "outputs": [],
   "source": [
    "yhat_train = model.predict(X_train, area)"
   ]
  },
  {
   "cell_type": "code",
   "execution_count": 20,
   "metadata": {},
   "outputs": [
    {
     "data": {
      "text/plain": [
       "[<matplotlib.lines.Line2D at 0x7fdda2dc5a90>]"
      ]
     },
     "execution_count": 20,
     "metadata": {},
     "output_type": "execute_result"
    },
    {
     "data": {
      "image/png": "[encoded data removed]",
      "text/plain": [
       "<Figure size 1440x288 with 1 Axes>"
      ]
     },
     "metadata": {
      "needs_background": "light"
     },
     "output_type": "display_data"
    }
   ],
   "source": [
    "plt.figure(figsize=(20,4))\n",
    "plt.plot(y_train)\n",
    "plt.plot(yhat_train, alpha=0.8)"
   ]
  },
  {
   "cell_type": "markdown",
   "metadata": {
    "slideshow": {
     "slide_type": "slide"
    }
   },
   "source": [
    "## What about errors"
   ]
  },
  {
   "cell_type": "code",
   "execution_count": 21,
   "metadata": {},
   "outputs": [],
   "source": [
    "import numpy as np\n",
    "def show_errors(y, yhat):\n",
    "    error = yhat - y\n",
    "    plt.hist(error)\n",
    "    print(f'mean error {error.mean()}')\n",
    "    print(f'mean absolute error {np.abs(error).mean()}')"
   ]
  },
  {
   "cell_type": "code",
   "execution_count": 22,
   "metadata": {},
   "outputs": [
    {
     "name": "stdout",
     "output_type": "stream",
     "text": [
      "mean error -0.00015892129474216353\n",
      "mean absolute error 1.0261583922218394\n"
     ]
    },
    {
     "data": {
      "image/png": "[encoded data removed]",
      "text/plain": [
       "<Figure size 432x288 with 1 Axes>"
      ]
     },
     "metadata": {
      "needs_background": "light"
     },
     "output_type": "display_data"
    }
   ],
   "source": [
    "show_errors(y_train, yhat_train)"
   ]
  },
  {
   "cell_type": "markdown",
   "metadata": {
    "slideshow": {
     "slide_type": "slide"
    }
   },
   "source": [
    "## Off to the test set"
   ]
  },
  {
   "cell_type": "code",
   "execution_count": 23,
   "metadata": {},
   "outputs": [
    {
     "name": "stdout",
     "output_type": "stream",
     "text": [
      "mean error 0.3406338323354721\n",
      "mean absolute error 1.035334010283152\n"
     ]
    },
    {
     "data": {
      "image/png": "[encoded data removed]",
      "text/plain": [
       "<Figure size 432x288 with 1 Axes>"
      ]
     },
     "metadata": {
      "needs_background": "light"
     },
     "output_type": "display_data"
    }
   ],
   "source": [
    "X_test, y_test = make_X_y(df_test, area)\n",
    "yhat_test = model.predict(X_test)\n",
    "show_errors(y_test, yhat_test)"
   ]
  },
  {
   "cell_type": "markdown",
   "metadata": {},
   "source": [
    "Similar performance: no overfit, we can deploy!"
   ]
  },
  {
   "cell_type": "markdown",
   "metadata": {
    "slideshow": {
     "slide_type": "slide"
    }
   },
   "source": [
    "## We are in business... or not"
   ]
  },
  {
   "cell_type": "code",
   "execution_count": 24,
   "metadata": {},
   "outputs": [
    {
     "name": "stdout",
     "output_type": "stream",
     "text": [
      "mean error -1.3399751130541167\n",
      "mean absolute error 1.964571757098039\n"
     ]
    },
    {
     "data": {
      "image/png": "[encoded data removed]",
      "text/plain": [
       "<Figure size 432x288 with 1 Axes>"
      ]
     },
     "metadata": {
      "needs_background": "light"
     },
     "output_type": "display_data"
    }
   ],
   "source": [
    "df_future = df[48*110:].copy()\n",
    "X_future, y_future = make_X_y(df_future, area)\n",
    "yhat_future = model.predict(X_future)\n",
    "show_errors(y_future, yhat_future)"
   ]
  },
  {
   "cell_type": "markdown",
   "metadata": {},
   "source": [
    "We've got some large errors here"
   ]
  },
  {
   "cell_type": "markdown",
   "metadata": {
    "slideshow": {
     "slide_type": "slide"
    }
   },
   "source": [
    "## Time to back up\n",
    "\n",
    "We rushed to make a model.\n",
    "\n",
    "But did we really understand the problem. Does the error matter or not?\n",
    "\n",
    "What is the expected revenue if we had a perfect prediction?"
   ]
  },
  {
   "cell_type": "markdown",
   "metadata": {},
   "source": [
    "# Revenue model"
   ]
  },
  {
   "cell_type": "code",
   "execution_count": 25,
   "metadata": {},
   "outputs": [
    {
     "data": {
      "text/plain": [
       "0.5292845566103257"
      ]
     },
     "execution_count": 25,
     "metadata": {},
     "output_type": "execute_result"
    }
   ],
   "source": [
    "np.abs(df_train.kansai - df_train.kansai.shift(1)).mean()"
   ]
  },
  {
   "cell_type": "markdown",
   "metadata": {},
   "source": [
    "Shall we predict this difference instead?"
   ]
  },
  {
   "cell_type": "markdown",
   "metadata": {
    "slideshow": {
     "slide_type": "slide"
    }
   },
   "source": [
    "## Computing the result with the prediction"
   ]
  },
  {
   "cell_type": "code",
   "execution_count": 26,
   "metadata": {},
   "outputs": [
    {
     "data": {
      "text/plain": [
       "0.15560185185185194"
      ]
     },
     "execution_count": 26,
     "metadata": {},
     "output_type": "execute_result"
    }
   ],
   "source": [
    "df_train['yhat'] = yhat_train\n",
    "df_train['buy'] = (df_train.yhat.shift(-1) > df_train.yhat)\n",
    "df_train['sell'] = df_train['buy'].shift(1).fillna(False)\n",
    "((df_train.sell*1 - df_train.buy*1) * df_train[area]).mean()\n"
   ]
  },
  {
   "cell_type": "markdown",
   "metadata": {
    "slideshow": {
     "slide_type": "slide"
    }
   },
   "source": [
    "## What is the best storage duration?"
   ]
  },
  {
   "cell_type": "code",
   "execution_count": 27,
   "metadata": {},
   "outputs": [
    {
     "data": {
      "text/plain": [
       "[<matplotlib.lines.Line2D at 0x7fdda2bd6550>]"
      ]
     },
     "execution_count": 27,
     "metadata": {},
     "output_type": "execute_result"
    },
    {
     "data": {
      "image/png": "[encoded data removed]",
      "text/plain": [
       "<Figure size 432x288 with 1 Axes>"
      ]
     },
     "metadata": {
      "needs_background": "light"
     },
     "output_type": "display_data"
    }
   ],
   "source": [
    "plt.plot([np.abs(df_train.shift(-a)[area] - df_train[area]).mean() for a in range(48)])"
   ]
  },
  {
   "cell_type": "code",
   "execution_count": 28,
   "metadata": {
    "slideshow": {
     "slide_type": "subslide"
    }
   },
   "outputs": [
    {
     "data": {
      "text/plain": [
       "[<matplotlib.lines.Line2D at 0x7fdda2b32198>]"
      ]
     },
     "execution_count": 28,
     "metadata": {},
     "output_type": "execute_result"
    },
    {
     "data": {
      "image/png": "[encoded data removed]",
      "text/plain": [
       "<Figure size 432x288 with 1 Axes>"
      ]
     },
     "metadata": {
      "needs_background": "light"
     },
     "output_type": "display_data"
    }
   ],
   "source": [
    "means = [(df_train.shift(-a)[area] - df_train[area]).mean() for a in range(48)]\n",
    "plt.plot(means)"
   ]
  },
  {
   "cell_type": "code",
   "execution_count": 29,
   "metadata": {},
   "outputs": [
    {
     "data": {
      "text/plain": [
       "30"
      ]
     },
     "execution_count": 29,
     "metadata": {},
     "output_type": "execute_result"
    }
   ],
   "source": [
    "np.argmax(means)"
   ]
  },
  {
   "cell_type": "markdown",
   "metadata": {},
   "source": [
    "# Overview of libraries used:\n",
    "\n",
    "Pandas: data I/O and manipulation\n",
    "\n",
    "xarray: 3+D pandas\n",
    "\n",
    "matplotlib: plotting library\n",
    "\n",
    "xgboost: machine learning"
   ]
  },
  {
   "cell_type": "markdown",
   "metadata": {
    "slideshow": {
     "slide_type": "slide"
    }
   },
   "source": [
    "# Conclusion\n",
    "\n",
    "* On Kaggle, what counts might be the prediction accuracy\n",
    "* In real life, what counts is the payoff, and surviving\n",
    "* always try to reframe and question the original problem\n",
    "* find the right error metrics\n",
    "* ultimately, you cannot predict the future from the past\n",
    "* visualize!\n",
    "* be skeptical\n"
   ]
  },
  {
   "cell_type": "markdown",
   "metadata": {},
   "source": [
    "Thanks"
   ]
  },
  {
   "cell_type": "code",
   "execution_count": null,
   "metadata": {},
   "outputs": [],
   "source": []
  }
 ],
 "metadata": {
  "kernelspec": {
   "display_name": "Python 3",
   "language": "python",
   "name": "python3"
  },
  "language_info": {
   "codemirror_mode": {
    "name": "ipython",
    "version": 3
   },
   "file_extension": ".py",
   "mimetype": "text/x-python",
   "name": "python",
   "nbconvert_exporter": "python",
   "pygments_lexer": "ipython3",
   "version": "3.7.3"
  }
 },
 "nbformat": 4,
 "nbformat_minor": 4
}
