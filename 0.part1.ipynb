{
 "cells": [
  {
   "cell_type": "markdown",
   "metadata": {
    "slideshow": {
     "slide_type": "slide"
    }
   },
   "source": [
    "# Data Science for Beginners Workshop\n",
    "@Le Wagon Tokyo - Coding Bootcamp - 2019-08-08\n",
    "\n",
    "Fabian Dubois\n",
    "\n",
    "Get the code here:\n",
    "\n",
    "<img style=\"float:left\" src=\"./images/qr.png\"></img>\n",
    "\n",
    "![](./images/Data_Science_VD.png)\n",
    "\n",
    "\n",
    "\n",
    "(image credit Drew Conway under creative common license)"
   ]
  },
  {
   "cell_type": "markdown",
   "metadata": {
    "slideshow": {
     "slide_type": "slide"
    }
   },
   "source": [
    "# Workshop content\n",
    "\n",
    "In parallel:\n",
    "\n",
    "* discover the notebook environment\n",
    "* discover python\n",
    "* discover some techniques to get\n",
    "\n",
    "2 Parts:\n",
    "* First one focuses on python and visualization\n",
    "* the second one on modelisation and domain knowledge\n"
   ]
  },
  {
   "cell_type": "markdown",
   "metadata": {
    "slideshow": {
     "slide_type": "slide"
    }
   },
   "source": [
    "# Getting ready\n",
    "\n",
    "We need a python 3.6+ notebook environment and a recent browser for the workshop.\n",
    "\n",
    "\n",
    "github.com/fabid/datascience-workshop\n",
    "\n",
    "![](./images/qr.png)\n",
    "\n",
    "## Option 1: you have a google account\n",
    "\n",
    "Go to:\n",
    "[Google Colab](https://colab.research.google.com)\n",
    "\n",
    "## Option 2: you have a python3 development environment installed\n",
    "\n",
    "    git clone xxx\n",
    "    virtualenv -p python3 ds-workshop-venv\n",
    "    source ds-workshop-venv/bin/activate\n",
    "    cd ds-workshop\n",
    "    pip install -r requirements.txt\n",
    "    jupyter lab\n",
    "\n"
   ]
  },
  {
   "cell_type": "markdown",
   "metadata": {
    "slideshow": {
     "slide_type": "slide"
    }
   },
   "source": [
    "# What is data science?\n",
    "\n",
    "\n",
    "![](./images/Data_Science_VD.png)"
   ]
  },
  {
   "cell_type": "markdown",
   "metadata": {
    "slideshow": {
     "slide_type": "notes"
    }
   },
   "source": [
    "background in mathematics\n",
    "background in science\n",
    "experience in python\n",
    "has used a notebook environemnet\n",
    "has used matlab"
   ]
  },
  {
   "cell_type": "markdown",
   "metadata": {
    "slideshow": {
     "slide_type": "slide"
    }
   },
   "source": [
    "## Typical task of team with data scientists:\n",
    "\n",
    "Reporting / analytics:\n",
    "\n",
    "* Build a one time report\n",
    "* Build a recurring report\n",
    "* Build an interactive report\n",
    "\n",
    "Modelisation:\n",
    "\n",
    "* Build a model for a recurrent prediction\n",
    "* Build a tool using a a model to deliver predictions on demand\n",
    "\n"
   ]
  },
  {
   "cell_type": "markdown",
   "metadata": {
    "slideshow": {
     "slide_type": "slide"
    }
   },
   "source": [
    "## Examples of data science projets\n",
    "\n",
    "* Given historical data of electricity usage from a group of electricty consummers, can we estimate the electricity need for the next day?\n",
    "* Given a set of activity patterns of a resident in a care facility, can we identify indicators of apperance of medical complicatons?\n",
    "\n",
    "**There is a wide range of data science projects with overlap in skills, but different aproaches and goals**\n"
   ]
  },
  {
   "cell_type": "markdown",
   "metadata": {
    "slideshow": {
     "slide_type": "slide"
    }
   },
   "source": [
    "## A day in the life of a data scientist\n",
    "\n",
    "* 09:15 <span style='color:purple'>Check recent performance reports of deployed models</span>\n",
    "* 09:30 <span style='color:green'>Mathematics work on a cost function optimization</span>\n",
    "* 10:30 <span style='color:salmon'>Scrum meeting with software engineers</span>\n",
    "* 11:00 <span style='color:salmon'>Deployment of pipeline and model updates</span>\n",
    "* 13:30 Lunch\n",
    "* 14:30 <span style='color:purple'>Meeting with business team to clarify requirements of a new product</span>\n",
    "* 15:00 <span style='color:green'>Test of new idea for a model / research paper review</span>\n",
    "* 16:00 <span style='color:salmon'>Design and development of charts for a new report.</span> \n",
    "* 18:30 wrap up\n",
    "\n",
    "\n",
    "Each day is different!"
   ]
  },
  {
   "cell_type": "markdown",
   "metadata": {
    "slideshow": {
     "slide_type": "slide"
    }
   },
   "source": [
    "## Example of challenges\n",
    "\n",
    "Challenge in (electricity procurement):\n",
    "\n",
    "* Large amounts of data to process\n",
    "* Some unreliability in data source causing missing data or duplications\n",
    "* High sensitivity of prices to very small changes in the market situation\n",
    "\n",
    "Another project (space robotics):\n",
    "\n",
    "* No access to deployment environment and no easy feedback cycle\n",
    "* Need to generate analogue data while preventing biases\n",
    "\n",
    "Another project (elderly care domain):\n",
    "* Low signal to noise ratio in the data\n",
    "* Relatively low computer / data litteracy in users\n",
    "* High cost of false positives and false negatives\n",
    "* Ground truth data acquisition cost is high\n",
    "\n"
   ]
  },
  {
   "cell_type": "markdown",
   "metadata": {
    "slideshow": {
     "slide_type": "slide"
    }
   },
   "source": [
    "## Why hacking / software?\n",
    "\n",
    "A software based approach to data analysis enables\n",
    "\n",
    "* testing\n",
    "* versioning\n",
    "* scalability\n",
    "* repeatability\n",
    "* flexibility"
   ]
  },
  {
   "cell_type": "markdown",
   "metadata": {
    "slideshow": {
     "slide_type": "slide"
    }
   },
   "source": [
    "## The notebook environment and python basics\n",
    "\n",
    "An interactive environment where different content types are mixed.\n",
    "\n",
    "Text, images and math in markdown like this text.\n",
    "\n",
    "$ y=\\sum_{i=1}^n g(x_i) $"
   ]
  },
  {
   "cell_type": "code",
   "execution_count": 1,
   "metadata": {},
   "outputs": [
    {
     "data": {
      "text/plain": [
       "3"
      ]
     },
     "execution_count": 1,
     "metadata": {},
     "output_type": "execute_result"
    }
   ],
   "source": [
    "# This is a python comment in a python code cell\n",
    "# This python code on the next line can be executed\n",
    "1 + 2"
   ]
  },
  {
   "cell_type": "code",
   "execution_count": 2,
   "metadata": {},
   "outputs": [
    {
     "data": {
      "text/plain": [
       "\u001b[0;31mSignature:\u001b[0m \u001b[0mdatetime\u001b[0m\u001b[0;34m.\u001b[0m\u001b[0mnow\u001b[0m\u001b[0;34m(\u001b[0m\u001b[0mtz\u001b[0m\u001b[0;34m=\u001b[0m\u001b[0;32mNone\u001b[0m\u001b[0;34m)\u001b[0m\u001b[0;34m\u001b[0m\u001b[0;34m\u001b[0m\u001b[0m\n",
       "\u001b[0;31mDocstring:\u001b[0m\n",
       "Returns new datetime object representing current time local to tz.\n",
       "\n",
       "  tz\n",
       "    Timezone object.\n",
       "\n",
       "If no tz is specified, uses local timezone.\n",
       "\u001b[0;31mType:\u001b[0m      builtin_function_or_method\n"
      ]
     },
     "metadata": {},
     "output_type": "display_data"
    }
   ],
   "source": [
    "# python imports\n",
    "from datetime import datetime\n",
    "# We can even access inline help\n",
    "datetime.now?"
   ]
  },
  {
   "cell_type": "code",
   "execution_count": 3,
   "metadata": {
    "slideshow": {
     "slide_type": "subslide"
    }
   },
   "outputs": [
    {
     "name": "stdout",
     "output_type": "stream",
     "text": [
      "This presentation was generated generated from a notebook at 2019-08-08 16:33:44.628570\n"
     ]
    }
   ],
   "source": [
    "# example of string interpolation\n",
    "text = f\"This presentation was generated generated from a notebook at {datetime.now()}\"\n",
    "print(text)"
   ]
  },
  {
   "cell_type": "markdown",
   "metadata": {},
   "source": [
    "Be careful, the **execution order is important**, when in doubt:\n",
    "\n",
    "    Kernel -> Restart kernel and run all cells (jupyter lab)\n",
    "    Runtime -> Restart and run all (Colab)"
   ]
  },
  {
   "cell_type": "markdown",
   "metadata": {
    "slideshow": {
     "slide_type": "slide"
    }
   },
   "source": [
    "## Data in python\n",
    "\n",
    "In python, data is typically organised in a **list**."
   ]
  },
  {
   "cell_type": "code",
   "execution_count": 4,
   "metadata": {},
   "outputs": [
    {
     "data": {
      "text/plain": [
       "['This', 'is', 'a', 'list']"
      ]
     },
     "execution_count": 4,
     "metadata": {},
     "output_type": "execute_result"
    }
   ],
   "source": [
    "my_list = ['This', 'is', 'a', 'list']\n",
    "my_list"
   ]
  },
  {
   "cell_type": "code",
   "execution_count": 5,
   "metadata": {},
   "outputs": [
    {
     "data": {
      "text/plain": [
       "[True, True, False, False]"
      ]
     },
     "execution_count": 5,
     "metadata": {},
     "output_type": "execute_result"
    }
   ],
   "source": [
    "# We can use list comprehensions to apply functions on data in a list\n",
    "[word.endswith('s') for word in my_list]"
   ]
  },
  {
   "cell_type": "markdown",
   "metadata": {},
   "source": [
    "But data does not always come as a list. "
   ]
  },
  {
   "cell_type": "code",
   "execution_count": 6,
   "metadata": {},
   "outputs": [
    {
     "data": {
      "text/plain": [
       "'This is a string'"
      ]
     },
     "execution_count": 6,
     "metadata": {},
     "output_type": "execute_result"
    }
   ],
   "source": [
    "\"This is a string\""
   ]
  },
  {
   "cell_type": "code",
   "execution_count": 7,
   "metadata": {},
   "outputs": [
    {
     "data": {
      "text/plain": [
       "['We', 'can', 'make', 'a', 'list', 'of', 'words', 'from', 'a', 'string']"
      ]
     },
     "execution_count": 7,
     "metadata": {},
     "output_type": "execute_result"
    }
   ],
   "source": [
    "\"We can make a list of words from a string\".split(' ')"
   ]
  },
  {
   "cell_type": "code",
   "execution_count": 8,
   "metadata": {
    "slideshow": {
     "slide_type": "subslide"
    }
   },
   "outputs": [
    {
     "data": {
      "text/plain": [
       "['O', 'r', ' ', 'a', ' ', 'l', 'i', 's', 't', ' ']"
      ]
     },
     "execution_count": 8,
     "metadata": {},
     "output_type": "execute_result"
    }
   ],
   "source": [
    "list(\"Or a list of characters\")[:10] # Only keep first 10 items"
   ]
  },
  {
   "cell_type": "markdown",
   "metadata": {},
   "source": [
    "Q1: How would you split a paragraph to a list of sentences?\n",
    "\n",
    "Q2: How would you parse a csv?"
   ]
  },
  {
   "cell_type": "code",
   "execution_count": 9,
   "metadata": {},
   "outputs": [],
   "source": [
    "csv = \"\"\"col1,col2,col3\n",
    "4,5,8\n",
    "1,2,4\n",
    "1,3,4\"\"\""
   ]
  },
  {
   "cell_type": "markdown",
   "metadata": {
    "slideshow": {
     "slide_type": "slide"
    }
   },
   "source": [
    "# Let's get real\n",
    "\n",
    "We will get the attendee list from the meetup page.\n",
    "\n",
    "Open the developer tool to discover the data API.\n",
    "[Today's meetup event page](https://www.meetup.com/Le-Wagon-Tokyo-Coding-Station/events/263472163/)\n",
    "\n",
    "The result is in JSON format."
   ]
  },
  {
   "cell_type": "code",
   "execution_count": 10,
   "metadata": {},
   "outputs": [],
   "source": [
    "import requests\n",
    "meetup_data_url = 'https://www.meetup.com/mu_api/urlname/events/eventId/attendees?queries=%28endpoint%3ALe-Wagon-Tokyo-Coding-Station%2Fevents%2F263472163%2Frsvps%2Cmeta%3A%28method%3Aget%29%2Cparams%3A%28desc%3A%21t%2Cfields%3A%27answers%2Cpay_status%2Cself%2Cweb_actions%2Cattendance_status%27%2Conly%3A%27answers%2Cresponse%2Cattendance_status%2Cguests%2Cmember%2Cpay_status%2Cupdated%27%2Corder%3Atime%29%2Cref%3AeventAttendees_Le-Wagon-Tokyo-Coding-Station_263472163%2Ctype%3Aattendees%29'"
   ]
  },
  {
   "cell_type": "code",
   "execution_count": 11,
   "metadata": {
    "slideshow": {
     "slide_type": "subslide"
    }
   },
   "outputs": [],
   "source": [
    "response = requests.get(meetup_data_url)"
   ]
  },
  {
   "cell_type": "code",
   "execution_count": 12,
   "metadata": {
    "slideshow": {
     "slide_type": "slide"
    }
   },
   "outputs": [],
   "source": [
    "#response.json()"
   ]
  },
  {
   "cell_type": "code",
   "execution_count": 13,
   "metadata": {},
   "outputs": [],
   "source": [
    "# let's save the data\n",
    "import json\n",
    "with open('data/meetup_data.json', 'w+') as f:\n",
    "    json.dump(response.json(), f)"
   ]
  },
  {
   "cell_type": "code",
   "execution_count": 14,
   "metadata": {},
   "outputs": [
    {
     "data": {
      "text/plain": [
       "50"
      ]
     },
     "execution_count": 14,
     "metadata": {},
     "output_type": "execute_result"
    }
   ],
   "source": [
    "attendees_json  = response.json()['responses'][0]['value']\n",
    "len(attendees_json)"
   ]
  },
  {
   "cell_type": "code",
   "execution_count": 15,
   "metadata": {},
   "outputs": [
    {
     "data": {
      "text/plain": [
       "{'updated': 1565233137000,\n",
       " 'member': {'id': 222446220,\n",
       "  'name': 'Francois R.',\n",
       "  'photo': {'id': 264478148,\n",
       "   'highres_link': 'https://secure.meetupstatic.com/photos/member/e/3/2/4/highres_264478148.jpeg',\n",
       "   'photo_link': 'https://secure.meetupstatic.com/photos/member/e/3/2/4/member_264478148.jpeg',\n",
       "   'thumb_link': 'https://secure.meetupstatic.com/photos/member/e/3/2/4/thumb_264478148.jpeg',\n",
       "   'type': 'member',\n",
       "   'base_url': 'https://secure.meetupstatic.com'},\n",
       "  'web_actions': {'group_profile_link': 'https://www.meetup.com/Le-Wagon-Tokyo-Coding-Station/members/222446220'},\n",
       "  'event_context': {'host': False}},\n",
       " 'guests': 0,\n",
       " 'response': 'no'}"
      ]
     },
     "execution_count": 15,
     "metadata": {},
     "output_type": "execute_result"
    }
   ],
   "source": [
    "# That is what a data point looks like\n",
    "attendees_json[0]"
   ]
  },
  {
   "cell_type": "markdown",
   "metadata": {
    "slideshow": {
     "slide_type": "slide"
    }
   },
   "source": [
    "# Here comes Pandas"
   ]
  },
  {
   "cell_type": "markdown",
   "metadata": {},
   "source": [
    "The primary data structures in pandas are implemented as two classes:\n",
    "\n",
    "* **DataFrame**, which you can imagine as a relational data table, with rows and named columns.\n",
    "* **Series**, which is a single column. A DataFrame contains one or more Series and a name for each Series."
   ]
  },
  {
   "cell_type": "code",
   "execution_count": 16,
   "metadata": {},
   "outputs": [
    {
     "name": "stdout",
     "output_type": "stream",
     "text": [
      "<class 'pandas.core.frame.DataFrame'>\n",
      "RangeIndex: 50 entries, 0 to 49\n",
      "Data columns (total 4 columns):\n",
      "updated     50 non-null int64\n",
      "member      50 non-null object\n",
      "guests      50 non-null int64\n",
      "response    50 non-null object\n",
      "dtypes: int64(2), object(2)\n",
      "memory usage: 1.7+ KB\n"
     ]
    }
   ],
   "source": [
    "import pandas as pd\n",
    "attendees_df = pd.DataFrame(attendees_json)\n",
    "attendees_df.info()"
   ]
  },
  {
   "cell_type": "code",
   "execution_count": 17,
   "metadata": {
    "slideshow": {
     "slide_type": "subslide"
    }
   },
   "outputs": [
    {
     "data": {
      "text/html": [
       "<div>\n",
       "<style scoped>\n",
       "    .dataframe tbody tr th:only-of-type {\n",
       "        vertical-align: middle;\n",
       "    }\n",
       "\n",
       "    .dataframe tbody tr th {\n",
       "        vertical-align: top;\n",
       "    }\n",
       "\n",
       "    .dataframe thead th {\n",
       "        text-align: right;\n",
       "    }\n",
       "</style>\n",
       "<table border=\"1\" class=\"dataframe\">\n",
       "  <thead>\n",
       "    <tr style=\"text-align: right;\">\n",
       "      <th></th>\n",
       "      <th>updated</th>\n",
       "      <th>member</th>\n",
       "      <th>guests</th>\n",
       "      <th>response</th>\n",
       "    </tr>\n",
       "  </thead>\n",
       "  <tbody>\n",
       "    <tr>\n",
       "      <th>0</th>\n",
       "      <td>1565233137000</td>\n",
       "      <td>{'id': 222446220, 'name': 'Francois R.', 'phot...</td>\n",
       "      <td>0</td>\n",
       "      <td>no</td>\n",
       "    </tr>\n",
       "    <tr>\n",
       "      <th>1</th>\n",
       "      <td>1565233136000</td>\n",
       "      <td>{'id': 27397742, 'name': 'Yuri N.', 'photo': {...</td>\n",
       "      <td>0</td>\n",
       "      <td>yes</td>\n",
       "    </tr>\n",
       "    <tr>\n",
       "      <th>2</th>\n",
       "      <td>1565222073000</td>\n",
       "      <td>{'id': 194887823, 'name': 'Vivek J.', 'photo':...</td>\n",
       "      <td>0</td>\n",
       "      <td>waitlist</td>\n",
       "    </tr>\n",
       "    <tr>\n",
       "      <th>3</th>\n",
       "      <td>1565184290000</td>\n",
       "      <td>{'id': 237831623, 'name': 'Nattanan W.', 'phot...</td>\n",
       "      <td>0</td>\n",
       "      <td>waitlist</td>\n",
       "    </tr>\n",
       "    <tr>\n",
       "      <th>4</th>\n",
       "      <td>1565126856000</td>\n",
       "      <td>{'id': 62584832, 'name': 'Yohann S.', 'photo':...</td>\n",
       "      <td>0</td>\n",
       "      <td>waitlist</td>\n",
       "    </tr>\n",
       "  </tbody>\n",
       "</table>\n",
       "</div>"
      ],
      "text/plain": [
       "         updated                                             member  guests  \\\n",
       "0  1565233137000  {'id': 222446220, 'name': 'Francois R.', 'phot...       0   \n",
       "1  1565233136000  {'id': 27397742, 'name': 'Yuri N.', 'photo': {...       0   \n",
       "2  1565222073000  {'id': 194887823, 'name': 'Vivek J.', 'photo':...       0   \n",
       "3  1565184290000  {'id': 237831623, 'name': 'Nattanan W.', 'phot...       0   \n",
       "4  1565126856000  {'id': 62584832, 'name': 'Yohann S.', 'photo':...       0   \n",
       "\n",
       "   response  \n",
       "0        no  \n",
       "1       yes  \n",
       "2  waitlist  \n",
       "3  waitlist  \n",
       "4  waitlist  "
      ]
     },
     "execution_count": 17,
     "metadata": {},
     "output_type": "execute_result"
    }
   ],
   "source": [
    "attendees_df.head()"
   ]
  },
  {
   "cell_type": "markdown",
   "metadata": {
    "slideshow": {
     "slide_type": "subslide"
    }
   },
   "source": [
    "In general it is convenient to have data organised in a canonical form:\n",
    "\n",
    "1 record = 1 row withhout nested data.\n",
    "\n",
    "This is similar to what you would have in a table of a relational database or in a spreadsheet."
   ]
  },
  {
   "cell_type": "code",
   "execution_count": 18,
   "metadata": {},
   "outputs": [],
   "source": [
    "attendees_df['name'] = attendees_df.member.apply(lambda x: x['name'])"
   ]
  },
  {
   "cell_type": "markdown",
   "metadata": {
    "slideshow": {
     "slide_type": "slide"
    }
   },
   "source": [
    "# When did people register?\n",
    "\n",
    "We will plot the number of people who updates their attendance for each hour of the week.\n",
    "We will use **matplotlib** to display the result"
   ]
  },
  {
   "cell_type": "code",
   "execution_count": 19,
   "metadata": {},
   "outputs": [],
   "source": [
    "attendees_df['updated_date'] = pd.to_datetime(attendees_df.updated, unit='ms')"
   ]
  },
  {
   "cell_type": "code",
   "execution_count": 20,
   "metadata": {},
   "outputs": [],
   "source": [
    "import calendar\n",
    "from matplotlib import pyplot as plt\n",
    "\n",
    "plt.hist2d(attendees_df.updated_date.dt.weekday, (attendees_df.updated_date.dt.hour+9)%24)\n",
    "plt.xlabel('weekday')\n",
    "plt.ylabel('time of the day')\n",
    "plt.xticks(ticks=range(7),labels=list(calendar.day_name));"
   ]
  },
  {
   "cell_type": "markdown",
   "metadata": {
    "slideshow": {
     "slide_type": "slide"
    }
   },
   "source": [
    "# About Math in python"
   ]
  },
  {
   "cell_type": "code",
   "execution_count": 21,
   "metadata": {},
   "outputs": [
    {
     "data": {
      "text/plain": [
       "(range(0, 20),\n",
       " [0, 1, 2, 3, 4, 5, 6, 7, 8, 9, 10, 11, 12, 13, 14, 15, 16, 17, 18, 19])"
      ]
     },
     "execution_count": 21,
     "metadata": {},
     "output_type": "execute_result"
    }
   ],
   "source": [
    "X = range(20)\n",
    "X, list(X)"
   ]
  },
  {
   "cell_type": "code",
   "execution_count": 22,
   "metadata": {},
   "outputs": [],
   "source": [
    "import math\n",
    "Y = [math.sin(x / math.pi *2.) for x in X] # list comprehension"
   ]
  },
  {
   "cell_type": "code",
   "execution_count": 23,
   "metadata": {},
   "outputs": [
    {
     "data": {
      "text/plain": [
       "[<matplotlib.lines.Line2D at 0x7f7a3a9f1470>]"
      ]
     },
     "execution_count": 23,
     "metadata": {},
     "output_type": "execute_result"
    },
    {
     "data": {
      "image/png": "[encoded data removed]",
      "text/plain": [
       "<Figure size 432x288 with 1 Axes>"
      ]
     },
     "metadata": {
      "needs_background": "light"
     },
     "output_type": "display_data"
    }
   ],
   "source": [
    "plt.plot(X, Y)"
   ]
  },
  {
   "cell_type": "markdown",
   "metadata": {
    "slideshow": {
     "slide_type": "slide"
    }
   },
   "source": [
    "# Numpy brings array operations, faster array processing\n",
    "\n",
    "In fact, pandas builds on top of numpy, bringing easier I/O and labelles arrays"
   ]
  },
  {
   "cell_type": "code",
   "execution_count": 24,
   "metadata": {},
   "outputs": [
    {
     "data": {
      "text/plain": [
       "[<matplotlib.lines.Line2D at 0x7f7a3a31a080>]"
      ]
     },
     "execution_count": 24,
     "metadata": {},
     "output_type": "execute_result"
    },
    {
     "data": {
      "image/png": "[encoded data removed]",
      "text/plain": [
       "<Figure size 432x288 with 1 Axes>"
      ]
     },
     "metadata": {
      "needs_background": "light"
     },
     "output_type": "display_data"
    }
   ],
   "source": [
    "# It is easier with numpy, array library\n",
    "import numpy as np\n",
    "X = np.arange(20)\n",
    "Y = np.cos(X/ math.pi * 2)\n",
    "plt.plot(X, Y)"
   ]
  },
  {
   "cell_type": "markdown",
   "metadata": {
    "slideshow": {
     "slide_type": "slide"
    }
   },
   "source": [
    "# How did the meetup fill up?"
   ]
  },
  {
   "cell_type": "code",
   "execution_count": 25,
   "metadata": {},
   "outputs": [
    {
     "data": {
      "text/plain": [
       "count    50.000000\n",
       "mean     -6.840000\n",
       "std       4.510125\n",
       "min     -14.000000\n",
       "25%     -11.000000\n",
       "50%      -5.500000\n",
       "75%      -3.000000\n",
       "max      -1.000000\n",
       "Name: time_to_event, dtype: float64"
      ]
     },
     "execution_count": 25,
     "metadata": {},
     "output_type": "execute_result"
    }
   ],
   "source": [
    "attendees_df['time_to_event'] = (attendees_df.updated_date - datetime.now()).dt.days\n",
    "attendees_df.time_to_event.describe()"
   ]
  },
  {
   "cell_type": "code",
   "execution_count": 26,
   "metadata": {
    "slideshow": {
     "slide_type": "subslide"
    }
   },
   "outputs": [
    {
     "data": {
      "image/png": "[encoded data removed]",
      "text/plain": [
       "<Figure size 432x288 with 1 Axes>"
      ]
     },
     "metadata": {
      "needs_background": "light"
     },
     "output_type": "display_data"
    }
   ],
   "source": [
    "for response_type in attendees_df.response.unique():\n",
    "    attendees_df[attendees_df.response == response_type].time_to_event.hist(alpha=0.5,label=response_type, bins=np.arange(-13, 1))\n",
    "plt.legend();"
   ]
  },
  {
   "cell_type": "code",
   "execution_count": 27,
   "metadata": {
    "slideshow": {
     "slide_type": "subslide"
    }
   },
   "outputs": [],
   "source": [
    "total = attendees_df[attendees_df.response=='yes'].groupby('time_to_event').response.count().reindex(np.arange(-15, 0)).fillna(0).sort_index().cumsum()#.plot(label='attendance')"
   ]
  },
  {
   "cell_type": "code",
   "execution_count": 28,
   "metadata": {},
   "outputs": [
    {
     "data": {
      "text/plain": [
       "[<matplotlib.lines.Line2D at 0x7f7a3a22a860>]"
      ]
     },
     "execution_count": 28,
     "metadata": {},
     "output_type": "execute_result"
    },
    {
     "data": {
      "image/png": "[encoded data removed]",
      "text/plain": [
       "<Figure size 432x288 with 1 Axes>"
      ]
     },
     "metadata": {
      "needs_background": "light"
     },
     "output_type": "display_data"
    }
   ],
   "source": [
    "plt.plot(total.index.values, total.values)"
   ]
  },
  {
   "cell_type": "markdown",
   "metadata": {},
   "source": [
    "Did the organiser change the event size in the last week? or is something misleading in the data we have?"
   ]
  },
  {
   "cell_type": "markdown",
   "metadata": {
    "slideshow": {
     "slide_type": "slide"
    }
   },
   "source": [
    "# The importance of visualization\n",
    "\n",
    "* Visualizing data is important to understand the data\n",
    "* Generally, if the classification or predictions in your brain are not working, don't expect too much from machine learning\n",
    "* if you have a machine learning model in production, you will want to track its performance over time, visualization will help\n",
    "* Sometime, you want to accompany machine decisions by justifications\n",
    "* You need to communicate results within the organization, visual communication is extremely useful\n",
    "\n",
    "But don't fool yourself:\n",
    "\n",
    "* Some patterns are irrelevant to your problem and only caused by the measurement mechanism (sampling, resolution...)\n",
    "* Human are good to find patterns\n",
    "\n",
    "And fon't fool others:\n",
    "* be honest when representation data"
   ]
  },
  {
   "cell_type": "markdown",
   "metadata": {
    "slideshow": {
     "slide_type": "slide"
    }
   },
   "source": [
    "# References:\n",
    "\n",
    "* http://drewconway.com/zia/2013/3/26/the-data-science-venn-diagram\n",
    "* [I dont' like notebooks](https://docs.google.com/presentation/d/1n2RlMdmv1p25Xy5thJUhkKGvjtV-dkAIsUXP-AL4ffI/edit?usp=sharing)"
   ]
  }
 ],
 "metadata": {
  "kernelspec": {
   "display_name": "Python 3",
   "language": "python",
   "name": "python3"
  },
  "language_info": {
   "codemirror_mode": {
    "name": "ipython",
    "version": 3
   },
   "file_extension": ".py",
   "mimetype": "text/x-python",
   "name": "python",
   "nbconvert_exporter": "python",
   "pygments_lexer": "ipython3",
   "version": "3.7.3"
  }
 },
 "nbformat": 4,
 "nbformat_minor": 4
}
